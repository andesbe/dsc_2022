{
  "nbformat": 4,
  "nbformat_minor": 0,
  "metadata": {
    "colab": {
      "provenance": [],
      "collapsed_sections": []
    },
    "kernelspec": {
      "name": "python3",
      "display_name": "Python 3"
    },
    "language_info": {
      "name": "python"
    }
  },
  "cells": [
    {
      "cell_type": "markdown",
      "source": [
        "[Adult-Income-Dataset](https://www.kaggle.com/datasets/wenruliu/adult-income-dataset) \n",
        "\n",
        "ML Classification Task: Predict whether income of a person exceeds $50K/yr"
      ],
      "metadata": {
        "id": "_Mzbj8LUp432"
      }
    },
    {
      "cell_type": "code",
      "source": [
        "!mkdir {Data,Imbalanced_Data,Optional_Data}\n",
        "\n",
        "!wget http://s3.eu-central-1.amazonaws.com/dsceurope2022/1-AdultCensus_Training.csv\n",
        "!wget http://s3.eu-central-1.amazonaws.com/dsceurope2022/2-AdultCensus_Holdout.csv\n",
        "!wget http://s3.eu-central-1.amazonaws.com/dsceurope2022/3-AdultCensus_Synthetic.csv\n",
        "!wget http://s3.eu-central-1.amazonaws.com/dsceurope2022/Optional\\ Files/AdultCensus_Original.csv\n",
        "!mv 1-AdultCensus_Training.csv Data\n",
        "!mv 2-AdultCensus_Holdout.csv Data\n",
        "!mv 3-AdultCensus_Synthetic.csv Data\n",
        "!mv AdultCensus_Original.csv Optional_Data\n",
        "!ls"
      ],
      "metadata": {
        "id": "Teafs4R0Glnu",
        "colab": {
          "base_uri": "https://localhost:8080/"
        },
        "outputId": "e1c6ada1-8c59-4a69-8c23-40268802ad81"
      },
      "execution_count": 4,
      "outputs": [
        {
          "output_type": "stream",
          "name": "stdout",
          "text": [
            "mkdir: cannot create directory ‘Data’: File exists\n",
            "mkdir: cannot create directory ‘Imbalanced_Data’: File exists\n",
            "mkdir: cannot create directory ‘Optional_Data’: File exists\n",
            "--2022-11-15 09:38:37--  http://s3.eu-central-1.amazonaws.com/dsceurope2022/1-AdultCensus_Training.csv\n",
            "Resolving s3.eu-central-1.amazonaws.com (s3.eu-central-1.amazonaws.com)... 52.219.168.43\n",
            "Connecting to s3.eu-central-1.amazonaws.com (s3.eu-central-1.amazonaws.com)|52.219.168.43|:80... connected.\n",
            "HTTP request sent, awaiting response... 200 OK\n",
            "Length: 2815657 (2.7M) [application/octet-stream]\n",
            "Saving to: ‘1-AdultCensus_Training.csv’\n",
            "\n",
            "1-AdultCensus_Train 100%[===================>]   2.68M  1.54MB/s    in 1.7s    \n",
            "\n",
            "2022-11-15 09:38:39 (1.54 MB/s) - ‘1-AdultCensus_Training.csv’ saved [2815657/2815657]\n",
            "\n",
            "--2022-11-15 09:38:39--  http://s3.eu-central-1.amazonaws.com/dsceurope2022/2-AdultCensus_Holdout.csv\n",
            "Resolving s3.eu-central-1.amazonaws.com (s3.eu-central-1.amazonaws.com)... 52.219.168.43\n",
            "Connecting to s3.eu-central-1.amazonaws.com (s3.eu-central-1.amazonaws.com)|52.219.168.43|:80... connected.\n",
            "HTTP request sent, awaiting response... 200 OK\n",
            "Length: 702977 (687K) [application/octet-stream]\n",
            "Saving to: ‘2-AdultCensus_Holdout.csv’\n",
            "\n",
            "2-AdultCensus_Holdo 100%[===================>] 686.50K   548KB/s    in 1.3s    \n",
            "\n",
            "2022-11-15 09:38:41 (548 KB/s) - ‘2-AdultCensus_Holdout.csv’ saved [702977/702977]\n",
            "\n",
            "--2022-11-15 09:38:41--  http://s3.eu-central-1.amazonaws.com/dsceurope2022/3-AdultCensus_Synthetic.csv\n",
            "Resolving s3.eu-central-1.amazonaws.com (s3.eu-central-1.amazonaws.com)... 52.219.168.43\n",
            "Connecting to s3.eu-central-1.amazonaws.com (s3.eu-central-1.amazonaws.com)|52.219.168.43|:80... connected.\n",
            "HTTP request sent, awaiting response... 200 OK\n",
            "Length: 2815690 (2.7M) [application/octet-stream]\n",
            "Saving to: ‘3-AdultCensus_Synthetic.csv’\n",
            "\n",
            "3-AdultCensus_Synth 100%[===================>]   2.68M  1.55MB/s    in 1.7s    \n",
            "\n",
            "2022-11-15 09:38:43 (1.55 MB/s) - ‘3-AdultCensus_Synthetic.csv’ saved [2815690/2815690]\n",
            "\n",
            "--2022-11-15 09:38:44--  http://s3.eu-central-1.amazonaws.com/dsceurope2022/Optional%20Files/AdultCensus_Original.csv\n",
            "Resolving s3.eu-central-1.amazonaws.com (s3.eu-central-1.amazonaws.com)... 52.219.75.183\n",
            "Connecting to s3.eu-central-1.amazonaws.com (s3.eu-central-1.amazonaws.com)|52.219.75.183|:80... connected.\n",
            "HTTP request sent, awaiting response... 200 OK\n",
            "Length: 4104734 (3.9M) [application/octet-stream]\n",
            "Saving to: ‘AdultCensus_Original.csv’\n",
            "\n",
            "AdultCensus_Origina 100%[===================>]   3.91M   178KB/s    in 13s     \n",
            "\n",
            "2022-11-15 09:38:57 (311 KB/s) - ‘AdultCensus_Original.csv’ saved [4104734/4104734]\n",
            "\n",
            "Data  Imbalanced_Data  Optional_Data  sample_data\n"
          ]
        }
      ]
    },
    {
      "cell_type": "markdown",
      "source": [
        "##Import Packages"
      ],
      "metadata": {
        "id": "_FRDKYC0HLne"
      }
    },
    {
      "cell_type": "code",
      "source": [
        "import pandas as pd\n",
        "import numpy as np\n",
        "import seaborn as sb\n",
        "import matplotlib.pyplot as plt\n",
        "import random\n",
        "\n",
        "from sklearn.compose import ColumnTransformer\n",
        "from sklearn.pipeline import Pipeline\n",
        "from sklearn.impute import SimpleImputer\n",
        "from sklearn.preprocessing import StandardScaler, OneHotEncoder\n",
        "from sklearn.model_selection import train_test_split, GridSearchCV\n",
        "from sklearn.ensemble import RandomForestClassifier\n",
        "from sklearn.svm import SVC\n",
        "from sklearn.metrics import plot_roc_curve\n",
        "from sklearn.metrics import RocCurveDisplay\n",
        "from sklearn.metrics import accuracy_score, balanced_accuracy_score, plot_confusion_matrix,confusion_matrix, classification_report\n",
        "\n",
        "np.random.seed(0)"
      ],
      "metadata": {
        "id": "GWkJd9MBltrb"
      },
      "execution_count": 2,
      "outputs": []
    },
    {
      "cell_type": "markdown",
      "source": [
        "# [OPTIONAL]: Target Manipulations for fair ML Comparison\n",
        "\n",
        "1.   Separate original target into target-holdout(20%) and target(80%)\n",
        "2.   Discard extreme-rare sample (one) from target dataset for fair ML comparison\n",
        "\n"
      ],
      "metadata": {
        "id": "HEyv-zzPuedn"
      }
    },
    {
      "cell_type": "code",
      "source": [
        "# Read original target dataset\n",
        "df = pd.read_csv(\"./Optional_Data/AdultCensus_Original.csv\")\n",
        "print(df.shape)\n",
        "\n",
        "# Separate 20% of the target dataset as a holdout\n",
        "df_1=df.sample(frac=0.2,random_state=5)\n",
        "print('Holdout dataset (shape: {}) do not have any data with native country as Holand-Netherlands: {}'.format(df_1.shape,df_1[df_1['native.country']=='Holand-Netherlands'].index))\n",
        "df_1.to_csv('Data/target_holdout.csv',index=False)\n",
        "\n",
        "# Save remaining 80% of target as a target (with Holand-Netherland in it)\n",
        "df = df.drop(df_1.index)\n",
        "print('Target dataset (shape: {}) with native country as Holand-Netherlands: {}'.format(df.shape,df[df['native.country']=='Holand-Netherlands'].index))\n",
        "df.to_csv('Data/target_after_holdout_separation.csv',index=False)"
      ],
      "metadata": {
        "id": "dqnO8kqx9RSz",
        "colab": {
          "base_uri": "https://localhost:8080/"
        },
        "outputId": "0f236a1e-75c6-4ffe-dc57-492a1f0a11e0"
      },
      "execution_count": 3,
      "outputs": [
        {
          "output_type": "stream",
          "name": "stdout",
          "text": [
            "(32561, 15)\n",
            "Holdout dataset (shape: (6512, 15)) do not have any data with native country as Holand-Netherlands: Int64Index([], dtype='int64')\n",
            "Target dataset (shape: (26049, 15)) with native country as Holand-Netherlands: Int64Index([211], dtype='int64')\n"
          ]
        }
      ]
    },
    {
      "cell_type": "code",
      "source": [
        "# Discard the data sample with Holand-Netherland as a native-country\n",
        "df = pd.read_csv(\"Data/target_after_holdout_separation.csv\")\n",
        "df=df.drop(df[df['native.country']=='Holand-Netherlands'].index)\n",
        "print('After discarding, the new shape: ',df.shape)\n",
        "df.to_csv('Data/adult.csv',index=False)"
      ],
      "metadata": {
        "id": "tW3P2eD7u4WX",
        "colab": {
          "base_uri": "https://localhost:8080/"
        },
        "outputId": "76129ef4-d9bb-4770-cd8d-bb9b9695ee63"
      },
      "execution_count": null,
      "outputs": [
        {
          "output_type": "stream",
          "name": "stdout",
          "text": [
            "After discarding, the new shape:  (26048, 15)\n"
          ]
        }
      ]
    },
    {
      "cell_type": "markdown",
      "source": [
        "After finishing Target Manipulations, we are ready to synthesise the **adult.csv** in Data folder. After sytnthesising via our website, the generated **adult_syn.csv** should be put inside Data folder for those whom wish to do manually."
      ],
      "metadata": {
        "id": "2XjQoi5-j6VH"
      }
    },
    {
      "cell_type": "markdown",
      "source": [
        "#Preprocessing Pipeline for target, target-holdout and synthetic datasets"
      ],
      "metadata": {
        "id": "XSXI70YJirNe"
      }
    },
    {
      "cell_type": "markdown",
      "source": [
        "##Load data and handle missing values"
      ],
      "metadata": {
        "id": "o6NVtYQ-QFt_"
      }
    },
    {
      "cell_type": "code",
      "source": [
        "def preprocess_data(filename):\n",
        "    df = pd.read_csv(filename)\n",
        "    # Display the number of records\n",
        "    print(\"the number of {} records:{}\\n\".format(filename, len(df.index)))\n",
        "    \n",
        "    # Replace missing values with np.nan\n",
        "    df = df.applymap(lambda d: np.nan if d==\"?\" else d)\n",
        "    \n",
        "    # Display the information about missing values and the final number of records after deleting missing values\n",
        "    print(\"missing value info:\\n{}\\n\".format(df.isnull().sum(axis=0)))\n",
        "    df = df.dropna(axis=0)\n",
        "    print(\"the number of {} records after deleting missing values:{}\\n\".format(filename, len(df))) \n",
        "    return df\n",
        "\n",
        "df_target = preprocess_data(\"./Data/1-AdultCensus_Training.csv\")\n",
        "df_holdout = preprocess_data(\"./Data/2-AdultCensus_Holdout.csv\")\n",
        "df_syn = preprocess_data(\"./Data/3-AdultCensus_Synthetic.csv\")\n",
        "\n",
        "# Equalize the number of training samples for target and synthetic after deleting missing values\n",
        "def equalize_sample_size(df1,df2):\n",
        "    if df1.shape[0]<df2.shape[0]:\n",
        "      df_syn=df2.sample(n=df1.shape[0],random_state=5)\n",
        "      df_target=df1\n",
        "    else:\n",
        "      df_target=df1.sample(n=df2.shape[0],random_state=5)\n",
        "      df_syn=df2\n",
        "    return df_target, df_syn\n",
        "\n",
        "df_target,df_syn = equalize_sample_size(df_target,df_syn)\n",
        "print('Target shape: {} , Syn shape: {}'.format(df_target.shape,df_syn.shape))"
      ],
      "metadata": {
        "id": "PWwG_1_p6672",
        "colab": {
          "base_uri": "https://localhost:8080/"
        },
        "outputId": "2e210d21-5714-4f81-eb8a-5ff4aaf8fd5e"
      },
      "execution_count": null,
      "outputs": [
        {
          "output_type": "stream",
          "name": "stdout",
          "text": [
            "the number of ./Data/1-AdultCensus_Training.csv records:26048\n",
            "\n",
            "missing value info:\n",
            "age                  0\n",
            "workclass         1467\n",
            "fnlwgt               0\n",
            "education            0\n",
            "education.num        0\n",
            "marital.status       0\n",
            "occupation        1474\n",
            "relationship         0\n",
            "race                 0\n",
            "sex                  0\n",
            "capital.gain         0\n",
            "capital.loss         0\n",
            "hours.per.week       0\n",
            "native.country     456\n",
            "income               0\n",
            "dtype: int64\n",
            "\n",
            "the number of ./Data/1-AdultCensus_Training.csv records after deleting missing values:24139\n",
            "\n",
            "the number of ./Data/2-AdultCensus_Holdout.csv records:6512\n",
            "\n",
            "missing value info:\n",
            "age                 0\n",
            "workclass         369\n",
            "fnlwgt              0\n",
            "education           0\n",
            "education.num       0\n",
            "marital.status      0\n",
            "occupation        369\n",
            "relationship        0\n",
            "race                0\n",
            "sex                 0\n",
            "capital.gain        0\n",
            "capital.loss        0\n",
            "hours.per.week      0\n",
            "native.country    127\n",
            "income              0\n",
            "dtype: int64\n",
            "\n",
            "the number of ./Data/2-AdultCensus_Holdout.csv records after deleting missing values:6022\n",
            "\n",
            "the number of ./Data/3-AdultCensus_Synthetic.csv records:26048\n",
            "\n",
            "missing value info:\n",
            "age                  0\n",
            "workclass         1392\n",
            "fnlwgt               0\n",
            "education            0\n",
            "education.num        0\n",
            "marital.status       0\n",
            "occupation        1407\n",
            "relationship         0\n",
            "race                 0\n",
            "sex                  0\n",
            "capital.gain         0\n",
            "capital.loss         0\n",
            "hours.per.week       0\n",
            "native.country     416\n",
            "income               0\n",
            "dtype: int64\n",
            "\n",
            "the number of ./Data/3-AdultCensus_Synthetic.csv records after deleting missing values:24244\n",
            "\n",
            "Target shape: (24139, 15) , Syn shape: (24139, 15)\n"
          ]
        }
      ]
    },
    {
      "cell_type": "markdown",
      "source": [
        "##Transform columns "
      ],
      "metadata": {
        "id": "hvOqQqhIQqgC"
      }
    },
    {
      "cell_type": "code",
      "source": [
        "def convert_data(df):\n",
        "\n",
        "    # Map income (label) column into numerical\n",
        "    y=df['income'].map({'<=50K': 0, '>50K': 1})\n",
        "    df=df.drop('income', axis=1)\n",
        "\n",
        "    # Transform categorical columns via one-hot encoding while scaling numerical columns \n",
        "    categorical_features=[col for col in df.columns if df[col].dtype=='object']\n",
        "    categorical_transformer = OneHotEncoder(handle_unknown=\"ignore\")\n",
        "\n",
        "    numerical_features=[col for col in df.columns if df[col].dtype!='object']\n",
        "    numeric_transformer = Pipeline(\n",
        "        steps=[(\"imputer\", SimpleImputer(strategy=\"median\")), (\"scaler\", StandardScaler())]\n",
        "        )\n",
        "    preprocessor = ColumnTransformer(\n",
        "        transformers=[(\"num\", numeric_transformer, numerical_features),\n",
        "                      (\"cat\", categorical_transformer, categorical_features),]\n",
        "                      )\n",
        "    \n",
        "    X = preprocessor.fit_transform(df)\n",
        "    return X,y\n",
        "\n",
        "X_train_syn, y_train_syn = convert_data(df_syn)\n",
        "X_train_target, y_train_target = convert_data(df_target)\n",
        "X_test, y_test = convert_data(df_holdout)\n",
        "\n",
        "print('Target training data shape:{} , Syn training data shape:{} , Holdout data shape:{} , '.format(X_train_target.shape,X_train_syn.shape,X_test.shape ))"
      ],
      "metadata": {
        "id": "lq9E1ZVFPpU1",
        "colab": {
          "base_uri": "https://localhost:8080/"
        },
        "outputId": "c9e2bf76-d0ac-49e9-d437-123a07fe6f41"
      },
      "execution_count": null,
      "outputs": [
        {
          "output_type": "stream",
          "name": "stdout",
          "text": [
            "Target training data shape:(24139, 103) , Syn training data shape:(24139, 103) , Holdout data shape:(6022, 103) , \n"
          ]
        }
      ]
    },
    {
      "cell_type": "markdown",
      "source": [
        "#Compare ML classification results for target and synthetic data"
      ],
      "metadata": {
        "id": "8-WGOoj9i-9V"
      }
    },
    {
      "cell_type": "markdown",
      "source": [
        "##Train & Test with Random Forest"
      ],
      "metadata": {
        "id": "3CTOmujGUV-Y"
      }
    },
    {
      "cell_type": "markdown",
      "source": [
        "### For Target Data"
      ],
      "metadata": {
        "id": "HPMiucAenThg"
      }
    },
    {
      "cell_type": "markdown",
      "source": [
        "#### Train ML Model"
      ],
      "metadata": {
        "id": "6HAYrMM2Uoj_"
      }
    },
    {
      "cell_type": "code",
      "source": [
        "model = RandomForestClassifier(n_estimators=10, max_depth=None,min_samples_split=2, random_state=0)\n",
        "#scores = cross_val_score(model, X_train_target, y_train_target, cv=5)\n",
        "model.fit(X_train_target, y_train_target)"
      ],
      "metadata": {
        "id": "01YjEZ32jdTC",
        "colab": {
          "base_uri": "https://localhost:8080/"
        },
        "outputId": "38772c55-6c62-4130-80bf-917564c3241a"
      },
      "execution_count": null,
      "outputs": [
        {
          "output_type": "execute_result",
          "data": {
            "text/plain": [
              "RandomForestClassifier(n_estimators=10, random_state=0)"
            ]
          },
          "metadata": {},
          "execution_count": 7
        }
      ]
    },
    {
      "cell_type": "markdown",
      "source": [
        "#### Evaluate ML model"
      ],
      "metadata": {
        "id": "4igc8vBYnXID"
      }
    },
    {
      "cell_type": "code",
      "source": [
        "preds = model.predict(X_test)\n",
        "print(preds)\n",
        "print(\"Accuracy (Caution):\", accuracy_score(y_test, preds)*100)\n",
        "print(\"Balanced accuracy: \", balanced_accuracy_score(y_test, preds)*100)\n",
        "plot_confusion_matrix(model, X_test, y_test, display_labels=[\"<50k\", \">=50k\"],\n",
        "                      cmap=plt.cm.Blues, normalize=\"pred\")"
      ],
      "metadata": {
        "colab": {
          "base_uri": "https://localhost:8080/",
          "height": 403
        },
        "id": "9N43AFRfpCoB",
        "outputId": "3a0b73dd-8404-4377-8e80-ce948e0ca8fa"
      },
      "execution_count": null,
      "outputs": [
        {
          "output_type": "stream",
          "name": "stdout",
          "text": [
            "[0 0 0 ... 0 0 0]\n",
            "Accuracy (Caution): 84.35735636001328\n",
            "Balanced accuracy:  75.97083745644744\n"
          ]
        },
        {
          "output_type": "stream",
          "name": "stderr",
          "text": [
            "/usr/local/lib/python3.7/dist-packages/sklearn/utils/deprecation.py:87: FutureWarning: Function plot_confusion_matrix is deprecated; Function `plot_confusion_matrix` is deprecated in 1.0 and will be removed in 1.2. Use one of the class methods: ConfusionMatrixDisplay.from_predictions or ConfusionMatrixDisplay.from_estimator.\n",
            "  warnings.warn(msg, category=FutureWarning)\n"
          ]
        },
        {
          "output_type": "execute_result",
          "data": {
            "text/plain": [
              "<sklearn.metrics._plot.confusion_matrix.ConfusionMatrixDisplay at 0x7feff5440190>"
            ]
          },
          "metadata": {},
          "execution_count": 8
        },
        {
          "output_type": "display_data",
          "data": {
            "text/plain": [
              "<Figure size 432x288 with 2 Axes>"
            ],
            "image/png": "[encoded data removed]"
          },
          "metadata": {
            "needs_background": "light"
          }
        }
      ]
    },
    {
      "cell_type": "code",
      "source": [
        "disp = RocCurveDisplay.from_estimator(model, X_test, y_test)\n",
        "plt.show()"
      ],
      "metadata": {
        "colab": {
          "base_uri": "https://localhost:8080/",
          "height": 279
        },
        "id": "ZZ4k0zINNm_B",
        "outputId": "3e750af4-7ac8-4e04-f47e-dd0b7a176597"
      },
      "execution_count": null,
      "outputs": [
        {
          "output_type": "display_data",
          "data": {
            "text/plain": [
              "<Figure size 432x288 with 1 Axes>"
            ],
            "image/png": "[encoded data removed]"
          },
          "metadata": {
            "needs_background": "light"
          }
        }
      ]
    },
    {
      "cell_type": "markdown",
      "source": [
        "###For Synthetic Data"
      ],
      "metadata": {
        "id": "mwblew0KU3jB"
      }
    },
    {
      "cell_type": "markdown",
      "source": [
        "####Train ML Model"
      ],
      "metadata": {
        "id": "cfaLexyAVH-U"
      }
    },
    {
      "cell_type": "code",
      "source": [
        "model.fit(X_train_syn, y_train_syn)"
      ],
      "metadata": {
        "colab": {
          "base_uri": "https://localhost:8080/"
        },
        "id": "eaUF2SFzU-we",
        "outputId": "a1b7f3b3-acc2-437d-9f46-5361fecaf4ac"
      },
      "execution_count": null,
      "outputs": [
        {
          "output_type": "execute_result",
          "data": {
            "text/plain": [
              "RandomForestClassifier(n_estimators=10, random_state=0)"
            ]
          },
          "metadata": {},
          "execution_count": 10
        }
      ]
    },
    {
      "cell_type": "markdown",
      "source": [
        "####Evaluate ML Model"
      ],
      "metadata": {
        "id": "AlgHUzA-VQ_p"
      }
    },
    {
      "cell_type": "code",
      "source": [
        "preds = model.predict(X_test)\n",
        "print(preds)\n",
        "print(\"Accuracy (Caution):\", accuracy_score(y_test, preds)*100)\n",
        "print(\"Balanced accuracy: \", balanced_accuracy_score(y_test, preds)*100)\n",
        "plot_confusion_matrix(model, X_test, y_test, display_labels=[\"<50k\", \">=50k\"],\n",
        "                      cmap=plt.cm.Blues, normalize=\"pred\")"
      ],
      "metadata": {
        "colab": {
          "base_uri": "https://localhost:8080/",
          "height": 403
        },
        "id": "S--9f-6AVQMv",
        "outputId": "24728fa1-4422-46af-b46d-2be1f2c9542c"
      },
      "execution_count": null,
      "outputs": [
        {
          "output_type": "stream",
          "name": "stdout",
          "text": [
            "[0 0 0 ... 0 0 0]\n",
            "Accuracy (Caution): 84.72268349385587\n",
            "Balanced accuracy:  75.85044054459557\n"
          ]
        },
        {
          "output_type": "stream",
          "name": "stderr",
          "text": [
            "/usr/local/lib/python3.7/dist-packages/sklearn/utils/deprecation.py:87: FutureWarning: Function plot_confusion_matrix is deprecated; Function `plot_confusion_matrix` is deprecated in 1.0 and will be removed in 1.2. Use one of the class methods: ConfusionMatrixDisplay.from_predictions or ConfusionMatrixDisplay.from_estimator.\n",
            "  warnings.warn(msg, category=FutureWarning)\n"
          ]
        },
        {
          "output_type": "execute_result",
          "data": {
            "text/plain": [
              "<sklearn.metrics._plot.confusion_matrix.ConfusionMatrixDisplay at 0x7feff4dc3590>"
            ]
          },
          "metadata": {},
          "execution_count": 11
        },
        {
          "output_type": "display_data",
          "data": {
            "text/plain": [
              "<Figure size 432x288 with 2 Axes>"
            ],
            "image/png": "[encoded data removed]"
          },
          "metadata": {
            "needs_background": "light"
          }
        }
      ]
    },
    {
      "cell_type": "code",
      "source": [
        "disp = RocCurveDisplay.from_estimator(model, X_test, y_test)\n",
        "plt.show()"
      ],
      "metadata": {
        "colab": {
          "base_uri": "https://localhost:8080/",
          "height": 279
        },
        "id": "o-RZhGhPOqUn",
        "outputId": "75108f3b-c30c-4439-d4d0-46081a69c94b"
      },
      "execution_count": null,
      "outputs": [
        {
          "output_type": "display_data",
          "data": {
            "text/plain": [
              "<Figure size 432x288 with 1 Axes>"
            ],
            "image/png": "[encoded data removed]"
          },
          "metadata": {
            "needs_background": "light"
          }
        }
      ]
    },
    {
      "cell_type": "markdown",
      "source": [
        "##Train & Test with SVM"
      ],
      "metadata": {
        "id": "VdJvlsgtVg4U"
      }
    },
    {
      "cell_type": "markdown",
      "source": [
        "### For Target Data"
      ],
      "metadata": {
        "id": "GZjE8RUsGYjI"
      }
    },
    {
      "cell_type": "markdown",
      "source": [
        "#### Train ML Model"
      ],
      "metadata": {
        "id": "LcRruoc-G76_"
      }
    },
    {
      "cell_type": "code",
      "source": [
        "model = SVC(kernel='linear', gamma=10)\n",
        "model.fit(X_train_target, y_train_target)"
      ],
      "metadata": {
        "colab": {
          "base_uri": "https://localhost:8080/"
        },
        "id": "FB8vhxNeG9BM",
        "outputId": "9beebfea-8188-4e46-825e-4196232f8c58"
      },
      "execution_count": null,
      "outputs": [
        {
          "output_type": "execute_result",
          "data": {
            "text/plain": [
              "SVC(gamma=10, kernel='linear')"
            ]
          },
          "metadata": {},
          "execution_count": 48
        }
      ]
    },
    {
      "cell_type": "markdown",
      "source": [
        "#### Evaluate ML Model"
      ],
      "metadata": {
        "id": "QHr9EIcbG9as"
      }
    },
    {
      "cell_type": "code",
      "source": [
        "preds = model.predict(X_test)\n",
        "print(preds)\n",
        "print(\"Accuracy (Caution):\", accuracy_score(y_test, preds)*100)\n",
        "print(\"Balanced accuracy: \", balanced_accuracy_score(y_test, preds)*100)\n",
        "plot_confusion_matrix(model, X_test, y_test, display_labels=[\"<50k\", \">=50k\"],\n",
        "                      cmap=plt.cm.Blues, normalize=\"pred\")"
      ],
      "metadata": {
        "colab": {
          "base_uri": "https://localhost:8080/",
          "height": 403
        },
        "id": "z32nTwC3G_zI",
        "outputId": "08ae74a9-7c62-4fde-fb8b-20cd1814093a"
      },
      "execution_count": null,
      "outputs": [
        {
          "output_type": "stream",
          "name": "stdout",
          "text": [
            "[0 0 0 ... 0 0 0]\n",
            "Accuracy (Caution): 85.37030886748589\n",
            "Balanced accuracy:  76.3935185240182\n"
          ]
        },
        {
          "output_type": "stream",
          "name": "stderr",
          "text": [
            "/usr/local/lib/python3.7/dist-packages/sklearn/utils/deprecation.py:87: FutureWarning: Function plot_confusion_matrix is deprecated; Function `plot_confusion_matrix` is deprecated in 1.0 and will be removed in 1.2. Use one of the class methods: ConfusionMatrixDisplay.from_predictions or ConfusionMatrixDisplay.from_estimator.\n",
            "  warnings.warn(msg, category=FutureWarning)\n"
          ]
        },
        {
          "output_type": "execute_result",
          "data": {
            "text/plain": [
              "<sklearn.metrics._plot.confusion_matrix.ConfusionMatrixDisplay at 0x7fe04e26c410>"
            ]
          },
          "metadata": {},
          "execution_count": 49
        },
        {
          "output_type": "display_data",
          "data": {
            "text/plain": [
              "<Figure size 432x288 with 2 Axes>"
            ],
            "image/png": "[encoded data removed]"
          },
          "metadata": {
            "needs_background": "light"
          }
        }
      ]
    },
    {
      "cell_type": "code",
      "source": [
        "disp = RocCurveDisplay.from_estimator(model, X_test, y_test)\n",
        "plt.show()"
      ],
      "metadata": {
        "colab": {
          "base_uri": "https://localhost:8080/",
          "height": 279
        },
        "id": "HGJM-kK5PeTC",
        "outputId": "4d926708-25fd-4f1b-dce1-d2c1cad333b9"
      },
      "execution_count": null,
      "outputs": [
        {
          "output_type": "display_data",
          "data": {
            "text/plain": [
              "<Figure size 432x288 with 1 Axes>"
            ],
            "image/png": "[encoded data removed]"
          },
          "metadata": {
            "needs_background": "light"
          }
        }
      ]
    },
    {
      "cell_type": "markdown",
      "source": [
        "###For Synthetic Data"
      ],
      "metadata": {
        "id": "RB0slmomGofq"
      }
    },
    {
      "cell_type": "markdown",
      "source": [
        "####Train ML Model"
      ],
      "metadata": {
        "id": "kklsl3ISFYUR"
      }
    },
    {
      "cell_type": "code",
      "source": [
        "model.fit(X_train_syn, y_train_syn)"
      ],
      "metadata": {
        "id": "k-e-hGH-VkqR",
        "colab": {
          "base_uri": "https://localhost:8080/"
        },
        "outputId": "0614d10e-433f-4c7a-a90a-8b7252cf59e5"
      },
      "execution_count": null,
      "outputs": [
        {
          "output_type": "execute_result",
          "data": {
            "text/plain": [
              "SVC(gamma=10, kernel='linear')"
            ]
          },
          "metadata": {},
          "execution_count": 51
        }
      ]
    },
    {
      "cell_type": "markdown",
      "source": [
        "####Test ML Model"
      ],
      "metadata": {
        "id": "oQcZ0UQgFbmu"
      }
    },
    {
      "cell_type": "code",
      "source": [
        "preds = model.predict(X_test)\n",
        "print(preds)\n",
        "print(\"Accuracy (Caution):\", accuracy_score(y_test, preds)*100)\n",
        "print(\"Balanced accuracy: \", balanced_accuracy_score(y_test, preds)*100)\n",
        "plot_confusion_matrix(model, X_test, y_test, display_labels=[\"<50k\", \">=50k\"],\n",
        "                      cmap=plt.cm.Blues, normalize=\"pred\")"
      ],
      "metadata": {
        "colab": {
          "base_uri": "https://localhost:8080/",
          "height": 403
        },
        "id": "pxsx1HWsFd-r",
        "outputId": "8ca70bdb-586f-4532-cbde-cc6f35122a93"
      },
      "execution_count": null,
      "outputs": [
        {
          "output_type": "stream",
          "name": "stdout",
          "text": [
            "[0 1 0 ... 0 0 0]\n",
            "Accuracy (Caution): 84.65626037861176\n",
            "Balanced accuracy:  75.10345403118797\n"
          ]
        },
        {
          "output_type": "stream",
          "name": "stderr",
          "text": [
            "/usr/local/lib/python3.7/dist-packages/sklearn/utils/deprecation.py:87: FutureWarning: Function plot_confusion_matrix is deprecated; Function `plot_confusion_matrix` is deprecated in 1.0 and will be removed in 1.2. Use one of the class methods: ConfusionMatrixDisplay.from_predictions or ConfusionMatrixDisplay.from_estimator.\n",
            "  warnings.warn(msg, category=FutureWarning)\n"
          ]
        },
        {
          "output_type": "execute_result",
          "data": {
            "text/plain": [
              "<sklearn.metrics._plot.confusion_matrix.ConfusionMatrixDisplay at 0x7fe04e0e0910>"
            ]
          },
          "metadata": {},
          "execution_count": 52
        },
        {
          "output_type": "display_data",
          "data": {
            "text/plain": [
              "<Figure size 432x288 with 2 Axes>"
            ],
            "image/png": "[encoded data removed]"
          },
          "metadata": {
            "needs_background": "light"
          }
        }
      ]
    },
    {
      "cell_type": "code",
      "source": [
        "disp = RocCurveDisplay.from_estimator(model, X_test, y_test)\n",
        "plt.show()"
      ],
      "metadata": {
        "colab": {
          "base_uri": "https://localhost:8080/",
          "height": 279
        },
        "id": "TbujUcTzPlyd",
        "outputId": "f0024129-ad0e-420b-9d10-820ebfb01a82"
      },
      "execution_count": null,
      "outputs": [
        {
          "output_type": "display_data",
          "data": {
            "text/plain": [
              "<Figure size 432x288 with 1 Axes>"
            ],
            "image/png": "[encoded data removed]"
          },
          "metadata": {
            "needs_background": "light"
          }
        }
      ]
    },
    {
      "cell_type": "markdown",
      "source": [
        "#Repeat ML Classification Results after Imbalancing the target data"
      ],
      "metadata": {
        "id": "hQlglRX6jd4V"
      }
    },
    {
      "cell_type": "code",
      "source": [
        "!mkdir Imbalanced_Data\n",
        "\n",
        "!wget http://s3.eu-central-1.amazonaws.com/dsceurope2022/5-AdultCensus_ImbalancedTraining.csv\n",
        "!wget http://s3.eu-central-1.amazonaws.com/dsceurope2022/6-AdultCensus_BalancedSynthetic.csv\n",
        "!mv 5-AdultCensus_ImbalancedTraining.csv Imbalanced_Data\n",
        "!mv 6-AdultCensus_BalancedSynthetic.csv Imbalanced_Data"
      ],
      "metadata": {
        "colab": {
          "base_uri": "https://localhost:8080/"
        },
        "id": "tddSSA1noDgG",
        "outputId": "c48955aa-bc16-41ba-f6f2-e46a33b9dbb2"
      },
      "execution_count": null,
      "outputs": [
        {
          "output_type": "stream",
          "name": "stdout",
          "text": [
            "mkdir: cannot create directory ‘Imbalanced_Data’: File exists\n",
            "--2022-11-15 08:45:17--  http://s3.eu-central-1.amazonaws.com/dsceurope2022/5-AdultCensus_ImbalancedTraining.csv\n",
            "Resolving s3.eu-central-1.amazonaws.com (s3.eu-central-1.amazonaws.com)... 52.219.171.157\n",
            "Connecting to s3.eu-central-1.amazonaws.com (s3.eu-central-1.amazonaws.com)|52.219.171.157|:80... connected.\n",
            "HTTP request sent, awaiting response... 200 OK\n",
            "Length: 2145776 (2.0M) [application/octet-stream]\n",
            "Saving to: ‘5-AdultCensus_ImbalancedTraining.csv’\n",
            "\n",
            "5-AdultCensus_Imbal 100%[===================>]   2.05M  2.71MB/s    in 0.8s    \n",
            "\n",
            "2022-11-15 08:45:18 (2.71 MB/s) - ‘5-AdultCensus_ImbalancedTraining.csv’ saved [2145776/2145776]\n",
            "\n",
            "--2022-11-15 08:45:18--  http://s3.eu-central-1.amazonaws.com/dsceurope2022/6-AdultCensus_BalancedSynthetic.csv\n",
            "Resolving s3.eu-central-1.amazonaws.com (s3.eu-central-1.amazonaws.com)... 52.219.171.157\n",
            "Connecting to s3.eu-central-1.amazonaws.com (s3.eu-central-1.amazonaws.com)|52.219.171.157|:80... connected.\n",
            "HTTP request sent, awaiting response... 200 OK\n",
            "Length: 1715605 (1.6M) [application/octet-stream]\n",
            "Saving to: ‘6-AdultCensus_BalancedSynthetic.csv’\n",
            "\n",
            "6-AdultCensus_Balan 100%[===================>]   1.64M  2.43MB/s    in 0.7s    \n",
            "\n",
            "2022-11-15 08:45:19 (2.43 MB/s) - ‘6-AdultCensus_BalancedSynthetic.csv’ saved [1715605/1715605]\n",
            "\n"
          ]
        }
      ]
    },
    {
      "cell_type": "markdown",
      "source": [
        "## [OPTIONAL] Imbalance the original dataset"
      ],
      "metadata": {
        "id": "0RZO4vhUUPfs"
      }
    },
    {
      "cell_type": "code",
      "source": [
        "def create_imbalance(filename,target, ratio):\n",
        "    df=pd.read_csv(filename)\n",
        "    print(\"Original target shape: {}\\n number of incomes with <=50K: {}\\n number of incomes with >50K: {}\\n\".format(df.shape,\n",
        "                          len(df[df['income']=='<=50K']), len(df[df['income']=='>50K']))) \n",
        "    random.seed(123)\n",
        "    minor, maj = df[target].value_counts().sort_values().index\n",
        "    idx_maj = df.index[df[target]==maj].tolist()\n",
        "    idx_min = df.index[df[target]==minor].tolist()\n",
        "    number_min = int(len(idx_maj)/(1-ratio)*ratio)\n",
        "    idx_min = random.sample(idx_min, number_min) \n",
        "    df_imb = df.loc[(idx_maj + idx_min),:].sample(frac=1, random_state = 42).reset_index(drop=True)\n",
        "    return df_imb\n",
        "\n",
        "df_imbalanced=create_imbalance('./Data/adult.csv','income',0.01)\n",
        "print(\"After imbalancing target shape: {}\\n number of incomes with <=50K: {}\\n number of incomes with >50K: {}\\n\".format(df_imbalanced.shape,\n",
        "                          len(df_imbalanced[df_imbalanced['income']=='<=50K']), len(df_imbalanced[df_imbalanced['income']=='>50K']))) \n",
        "df_imbalanced.to_csv('Imbalanced_Data/imbalanced_adult.csv',index=False)"
      ],
      "metadata": {
        "id": "r7kTqCDymz3-",
        "colab": {
          "base_uri": "https://localhost:8080/"
        },
        "outputId": "3b80bf2a-ed63-46db-e261-36059a0b61cf"
      },
      "execution_count": null,
      "outputs": [
        {
          "output_type": "stream",
          "name": "stdout",
          "text": [
            "Original target shape: (26048, 15)\n",
            " number of incomes with <=50K: 19767\n",
            " number of incomes with >50K: 6281\n",
            "\n",
            "After imbalancing target shape: (19966, 15)\n",
            " number of incomes with <=50K: 19767\n",
            " number of incomes with >50K: 199\n",
            "\n"
          ]
        }
      ]
    },
    {
      "cell_type": "markdown",
      "source": [
        "##Preprocessing Pipeline for imbalanced target, its synthetic and balanced-synthetic datasets"
      ],
      "metadata": {
        "id": "gY9QpOAG00XJ"
      }
    },
    {
      "cell_type": "markdown",
      "source": [
        "####Handle missing values"
      ],
      "metadata": {
        "id": "w851OxTjlMpm"
      }
    },
    {
      "cell_type": "code",
      "source": [
        "df_target = preprocess_data(\"Imbalanced_Data/5-AdultCensus_ImbalancedTraining.csv\")\n",
        "df_syn_balanced = preprocess_data(\"Imbalanced_Data/6-AdultCensus_BalancedSynthetic.csv\")\n",
        "df_syn_balanced=df_syn_balanced.drop(['Unnamed: 0'], axis=1)\n",
        "\n",
        "df_target,df_syn_balanced = equalize_sample_size(df_target,df_syn_balanced)\n",
        "print('Target shape: {} , Syn shape: {}'.format(df_target.shape,df_syn_balanced.shape))"
      ],
      "metadata": {
        "id": "zj8xZiEk1C4z",
        "colab": {
          "base_uri": "https://localhost:8080/"
        },
        "outputId": "138e7d3d-8a5d-452a-a529-a9089d799463"
      },
      "execution_count": null,
      "outputs": [
        {
          "output_type": "stream",
          "name": "stdout",
          "text": [
            "the number of Imbalanced_Data/5-AdultCensus_ImbalancedTraining.csv records:19966\n",
            "\n",
            "missing value info:\n",
            "age                  0\n",
            "workclass         1317\n",
            "fnlwgt               0\n",
            "education            0\n",
            "education.num        0\n",
            "marital.status       0\n",
            "occupation        1324\n",
            "relationship         0\n",
            "race                 0\n",
            "sex                  0\n",
            "capital.gain         0\n",
            "capital.loss         0\n",
            "hours.per.week       0\n",
            "native.country     353\n",
            "income               0\n",
            "dtype: int64\n",
            "\n",
            "the number of Imbalanced_Data/5-AdultCensus_ImbalancedTraining.csv records after deleting missing values:18307\n",
            "\n",
            "the number of Imbalanced_Data/6-AdultCensus_BalancedSynthetic.csv records:15006\n",
            "\n",
            "missing value info:\n",
            "Unnamed: 0          0\n",
            "age                 0\n",
            "workclass         723\n",
            "fnlwgt              0\n",
            "education           0\n",
            "education.num       0\n",
            "marital.status      0\n",
            "occupation        726\n",
            "relationship        0\n",
            "race                0\n",
            "sex                 0\n",
            "capital.gain        0\n",
            "capital.loss        0\n",
            "hours.per.week      0\n",
            "native.country    137\n",
            "income              0\n",
            "dtype: int64\n",
            "\n",
            "the number of Imbalanced_Data/6-AdultCensus_BalancedSynthetic.csv records after deleting missing values:14154\n",
            "\n",
            "Target shape: (14154, 15) , Syn shape: (14154, 15)\n"
          ]
        }
      ]
    },
    {
      "cell_type": "code",
      "source": [
        "df_holdout.income.value_counts(normalize=True)"
      ],
      "metadata": {
        "colab": {
          "base_uri": "https://localhost:8080/"
        },
        "id": "1G0kJDEgvPKa",
        "outputId": "cc529150-4ffb-4d09-bcae-f97b27a62955"
      },
      "execution_count": null,
      "outputs": [
        {
          "output_type": "execute_result",
          "data": {
            "text/plain": [
              "<=50K    0.75357\n",
              ">50K     0.24643\n",
              "Name: income, dtype: float64"
            ]
          },
          "metadata": {},
          "execution_count": 16
        }
      ]
    },
    {
      "cell_type": "code",
      "source": [
        "df_target.income.value_counts(normalize=True)"
      ],
      "metadata": {
        "colab": {
          "base_uri": "https://localhost:8080/"
        },
        "id": "9-xvKbDXu1O2",
        "outputId": "b4e7fe29-33f4-4fb7-c29d-02809896c9af"
      },
      "execution_count": null,
      "outputs": [
        {
          "output_type": "execute_result",
          "data": {
            "text/plain": [
              "<=50K    0.989544\n",
              ">50K     0.010456\n",
              "Name: income, dtype: float64"
            ]
          },
          "metadata": {},
          "execution_count": 17
        }
      ]
    },
    {
      "cell_type": "code",
      "source": [
        "df_syn_balanced.income.value_counts(normalize=True)"
      ],
      "metadata": {
        "colab": {
          "base_uri": "https://localhost:8080/"
        },
        "id": "SaIWF219vE3j",
        "outputId": "5f953655-f412-4388-e2d5-bf3dcfbd62a7"
      },
      "execution_count": null,
      "outputs": [
        {
          "output_type": "execute_result",
          "data": {
            "text/plain": [
              ">50K     0.515119\n",
              "<=50K    0.484881\n",
              "Name: income, dtype: float64"
            ]
          },
          "metadata": {},
          "execution_count": 18
        }
      ]
    },
    {
      "cell_type": "markdown",
      "source": [
        "####Transform columns"
      ],
      "metadata": {
        "id": "reHY-GA-lk5A"
      }
    },
    {
      "cell_type": "code",
      "source": [
        "X_train_target, y_train_target = convert_data(df_target)\n",
        "X_train_syn_balanced, y_train_syn_balanced = convert_data(df_syn_balanced)"
      ],
      "metadata": {
        "id": "M_qOjwFW3uKs"
      },
      "execution_count": null,
      "outputs": []
    },
    {
      "cell_type": "code",
      "source": [
        "X_train_target.shape"
      ],
      "metadata": {
        "colab": {
          "base_uri": "https://localhost:8080/"
        },
        "id": "-0_MtWQ5ahbK",
        "outputId": "5a3611b2-bae1-4c6b-deb7-52d9647a5cf0"
      },
      "execution_count": null,
      "outputs": [
        {
          "output_type": "execute_result",
          "data": {
            "text/plain": [
              "(14154, 103)"
            ]
          },
          "metadata": {},
          "execution_count": 20
        }
      ]
    },
    {
      "cell_type": "code",
      "source": [
        "X_train_syn_balanced.shape"
      ],
      "metadata": {
        "colab": {
          "base_uri": "https://localhost:8080/"
        },
        "id": "UE5lHwyKap3B",
        "outputId": "d3d03664-4a55-4487-aa46-11c2b5da3e91"
      },
      "execution_count": null,
      "outputs": [
        {
          "output_type": "execute_result",
          "data": {
            "text/plain": [
              "(14154, 103)"
            ]
          },
          "metadata": {},
          "execution_count": 21
        }
      ]
    },
    {
      "cell_type": "markdown",
      "source": [
        "##Compare ML Classification Results"
      ],
      "metadata": {
        "id": "fiswQ2MX4DKC"
      }
    },
    {
      "cell_type": "markdown",
      "source": [
        "###Random Forest"
      ],
      "metadata": {
        "id": "ngzdxY984SVx"
      }
    },
    {
      "cell_type": "markdown",
      "source": [
        "####Train ML Model with imbalanced target and Evaluate\n",
        "\n"
      ],
      "metadata": {
        "id": "HkiCu7DNJ52r"
      }
    },
    {
      "cell_type": "code",
      "source": [
        "model = RandomForestClassifier(n_estimators=10, max_depth=None,min_samples_split=2, random_state=0)\n",
        "model.fit(X_train_target, y_train_target)\n",
        "\n",
        "preds = model.predict(X_test)\n",
        "print(preds)\n",
        "print(\"Accuracy (Caution):\", accuracy_score(y_test, preds)*100)\n",
        "print(\"Balanced accuracy: \", balanced_accuracy_score(y_test, preds)*100)\n",
        "plot_confusion_matrix(model, X_test, y_test, display_labels=[\"<50k\", \">=50k\"],\n",
        "                      cmap=plt.cm.Blues, normalize=\"pred\")"
      ],
      "metadata": {
        "id": "puqqgtmz4Rqj",
        "colab": {
          "base_uri": "https://localhost:8080/",
          "height": 403
        },
        "outputId": "28a61420-617c-4243-de3c-b001146c39e6"
      },
      "execution_count": null,
      "outputs": [
        {
          "output_type": "stream",
          "name": "stdout",
          "text": [
            "[0 0 0 ... 0 0 0]\n",
            "Accuracy (Caution): 75.53968781135836\n",
            "Balanced accuracy:  50.46131855704271\n"
          ]
        },
        {
          "output_type": "stream",
          "name": "stderr",
          "text": [
            "/usr/local/lib/python3.7/dist-packages/sklearn/utils/deprecation.py:87: FutureWarning: Function plot_confusion_matrix is deprecated; Function `plot_confusion_matrix` is deprecated in 1.0 and will be removed in 1.2. Use one of the class methods: ConfusionMatrixDisplay.from_predictions or ConfusionMatrixDisplay.from_estimator.\n",
            "  warnings.warn(msg, category=FutureWarning)\n"
          ]
        },
        {
          "output_type": "execute_result",
          "data": {
            "text/plain": [
              "<sklearn.metrics._plot.confusion_matrix.ConfusionMatrixDisplay at 0x7feff4c5f9d0>"
            ]
          },
          "metadata": {},
          "execution_count": 22
        },
        {
          "output_type": "display_data",
          "data": {
            "text/plain": [
              "<Figure size 432x288 with 2 Axes>"
            ],
            "image/png": "[encoded data removed]"
          },
          "metadata": {
            "needs_background": "light"
          }
        }
      ]
    },
    {
      "cell_type": "code",
      "source": [
        "disp = RocCurveDisplay.from_estimator(model, X_test, y_test)\n",
        "plt.show()"
      ],
      "metadata": {
        "colab": {
          "base_uri": "https://localhost:8080/",
          "height": 279
        },
        "id": "eBcrPs5JhOVB",
        "outputId": "454aa646-a813-4a30-e8b1-a6d9ddfaf8c9"
      },
      "execution_count": null,
      "outputs": [
        {
          "output_type": "display_data",
          "data": {
            "text/plain": [
              "<Figure size 432x288 with 1 Axes>"
            ],
            "image/png": "[encoded data removed]"
          },
          "metadata": {
            "needs_background": "light"
          }
        }
      ]
    },
    {
      "cell_type": "markdown",
      "source": [
        "####Train ML Model with balanced synthetic dataset and Evaluate\n",
        "\n"
      ],
      "metadata": {
        "id": "OzT8VOO2K6UC"
      }
    },
    {
      "cell_type": "code",
      "source": [
        "model.fit(X_train_syn_balanced, y_train_syn_balanced)\n",
        "\n",
        "preds = model.predict(X_test)\n",
        "print(preds)\n",
        "print(\"Accuracy (Caution):\", accuracy_score(y_test, preds)*100)\n",
        "print(\"Balanced accuracy: \", balanced_accuracy_score(y_test, preds)*100)\n",
        "plot_confusion_matrix(model, X_test, y_test, display_labels=[\"<50k\", \">=50k\"],\n",
        "                      cmap=plt.cm.Blues, normalize=\"pred\")"
      ],
      "metadata": {
        "id": "OHxq0_YxLLUW",
        "colab": {
          "base_uri": "https://localhost:8080/",
          "height": 403
        },
        "outputId": "0f353e47-331d-48d6-d409-76a34226455a"
      },
      "execution_count": null,
      "outputs": [
        {
          "output_type": "stream",
          "name": "stdout",
          "text": [
            "[0 1 0 ... 1 0 1]\n",
            "Accuracy (Caution): 78.14679508468947\n",
            "Balanced accuracy:  78.56177662363581\n"
          ]
        },
        {
          "output_type": "stream",
          "name": "stderr",
          "text": [
            "/usr/local/lib/python3.7/dist-packages/sklearn/utils/deprecation.py:87: FutureWarning: Function plot_confusion_matrix is deprecated; Function `plot_confusion_matrix` is deprecated in 1.0 and will be removed in 1.2. Use one of the class methods: ConfusionMatrixDisplay.from_predictions or ConfusionMatrixDisplay.from_estimator.\n",
            "  warnings.warn(msg, category=FutureWarning)\n"
          ]
        },
        {
          "output_type": "execute_result",
          "data": {
            "text/plain": [
              "<sklearn.metrics._plot.confusion_matrix.ConfusionMatrixDisplay at 0x7feff4b65b90>"
            ]
          },
          "metadata": {},
          "execution_count": 24
        },
        {
          "output_type": "display_data",
          "data": {
            "text/plain": [
              "<Figure size 432x288 with 2 Axes>"
            ],
            "image/png": "[encoded data removed]"
          },
          "metadata": {
            "needs_background": "light"
          }
        }
      ]
    },
    {
      "cell_type": "code",
      "source": [
        "disp = RocCurveDisplay.from_estimator(model, X_test, y_test)\n",
        "plt.show()"
      ],
      "metadata": {
        "colab": {
          "base_uri": "https://localhost:8080/",
          "height": 279
        },
        "id": "XtORm8JJhMwp",
        "outputId": "4ff474c3-1b2c-408f-e115-8a2fe0e155cc"
      },
      "execution_count": null,
      "outputs": [
        {
          "output_type": "display_data",
          "data": {
            "text/plain": [
              "<Figure size 432x288 with 1 Axes>"
            ],
            "image/png": "[encoded data removed]"
          },
          "metadata": {
            "needs_background": "light"
          }
        }
      ]
    },
    {
      "cell_type": "code",
      "source": [],
      "metadata": {
        "id": "ouUoaZQhd5u9"
      },
      "execution_count": null,
      "outputs": []
    }
  ]
}